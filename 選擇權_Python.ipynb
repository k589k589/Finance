{
  "nbformat": 4,
  "nbformat_minor": 0,
  "metadata": {
    "kernelspec": {
      "display_name": "Python 3",
      "language": "python",
      "name": "python3"
    },
    "language_info": {
      "codemirror_mode": {
        "name": "ipython",
        "version": 3
      },
      "file_extension": ".py",
      "mimetype": "text/x-python",
      "name": "python",
      "nbconvert_exporter": "python",
      "pygments_lexer": "ipython3",
      "version": "3.8.8"
    },
    "colab": {
      "name": "選擇權_Python.ipynb",
      "provenance": []
    },
    "accelerator": "GPU"
  },
  "cells": [
    {
      "cell_type": "markdown",
      "metadata": {
        "id": "mv6Tc94ZPQuK"
      },
      "source": [
        "# **Volatility Surfaces by Machine Learning?**"
      ]
    },
    {
      "cell_type": "markdown",
      "metadata": {
        "id": "vwKc1FBzPQuP"
      },
      "source": [
        "# **先了解選擇權**\n",
        "## **定義**\n",
        "\n",
        "選擇權是一種契約，其買方有權利但沒有義務，在未來的特定日期或之前，以特定的價格購買或出售一定數量的標的物。選擇權所表彰的是一種權利，選擇權買方支付權利金，取得買權CALL 或賣權PUT，於特定期間內，依特定價格及數量等交易條件買賣現貨之契約；選擇權之賣方，於買方要求履約時，有依選擇權約定履行契約之義務。\n",
        "\n",
        "\n",
        "\n",
        "＊＊＊＊＊＊＊＊＊＊＊＊＊＊＊＊＊＊＊＊＊＊＊＊＊＊＊＊＊＊＊＊＊＊＊＊＊\n",
        "\n",
        "## **選擇權的類別：**\n",
        "\n",
        "未來購入現貨的權利，稱作買權 (CALL)\n",
        "**買買權(long call): 看大漲；買賣權(long put): 看大跌。**\n",
        "\n",
        "未來售出現貨的權利，稱作賣權 (PUT)\n",
        "**賣買權(short call): 看小跌；賣賣權(short put): 看小漲。**\n",
        "\n",
        "\n",
        "\n",
        "＊＊＊＊＊＊＊＊＊＊＊＊＊＊＊＊＊＊＊＊＊＊＊＊＊＊＊＊＊＊＊＊＊＊＊＊＊\n",
        "\n",
        "## **享受權利者和負擔或有義務者:**\n",
        "\n",
        "a.享受權利者即為選擇權之買方，或稱作持有人。有權利但無義務履約，所以必定在履約可獲利時執行權利。\n",
        "\n",
        "b.負擔或有義務者即為賣方，先收取買方所支付之權利金，當買方要求履約時，有義務依約履行。為防止有違約之虞，故賣方需繳交保證金。\n",
        "\n",
        "＊＊＊＊＊＊＊＊＊＊＊＊＊＊＊＊＊＊＊＊＊＊＊＊＊＊＊＊＊＊＊＊＊＊＊＊＊\n",
        "\n",
        "選擇權的一大特色即為**權利和義務的不對稱職務。**\n",
        "\n",
        "**買方權利的行使有一期限，稱作到期日或失效日，而到期日距今的時間即為權利期間。**\n",
        "\n",
        "＊＊＊＊＊＊＊＊＊＊＊＊＊＊＊＊＊＊＊＊＊＊＊＊＊＊＊＊＊＊＊＊＊＊＊＊＊\n",
        "\n",
        "## **形式**\n",
        "\n",
        "* 歐式選擇權:需在到期時，才可進行履約。\n",
        "* 美式選擇權，則在到期日之前任何時點，買方皆可要求履約。\n",
        "\n",
        "＊＊＊＊＊＊＊＊＊＊＊＊＊＊＊＊＊＊＊＊＊＊＊＊＊＊＊＊＊＊＊＊＊＊＊＊＊\n",
        "\n",
        "## **權利金**\n",
        "* 權利金代表選擇權的價格\n",
        "* 影響選擇權價格的因素包括了標的市價S、履約價格K、無風險利率i、權利期限t、標的波動性\n",
        "* 而選擇權的價值可以分為兩部分：一是內含價值(INTRINSIC VALUE)，二是時間價值(TIME VALUE)。\n",
        "* 內含價值係指立即履約可獲得的利潤，時間價值則是隱含的期望價值，隨時間縮短遞減。買方在進場時即支付權利金予賣方以取得權利。\n",
        "\n"
      ]
    },
    {
      "cell_type": "markdown",
      "metadata": {
        "id": "tWc7ZYWOPQuR"
      },
      "source": [
        "# Moneyness(貨幣性衡量期權)\n",
        "貨幣性衡量期權(moneyness)可能被行使的程度\n",
        "* 流行定義（S = 資產價格，K = 行使價）\n",
        "* 平價：S = K\n",
        "* 價內：S > K 為看漲期權，S < K 為看跌期權\n",
        "* 價外：S < K 代表看漲期權，S > K 代表看跌期權"
      ]
    },
    {
      "cell_type": "markdown",
      "metadata": {
        "id": "WInt8t1ZPQuR"
      },
      "source": [
        "# **Delta**\n",
        "## 一、說明\n",
        "是指「當現貨變動一單位，預期選擇權價格會隨之變動的單位量」。它是經由選擇權計價公式經過數學上的微分計算所產生的數值。\n",
        "\n",
        "## 二、使用方式\n",
        "* **對買權而言**，delta值介於1與0之間，價內程度越高，則delta值愈接近１﹔價平附近，delta值接近0.5﹔價外程度越高，delta值愈接近０。\n",
        "* **對賣權而言**，delta值介於0與-１之間，價內程度愈高，delta值愈接近-1﹔價平附近，delta值接近-0.5﹔價外程度愈高，delta值愈接近0。\n",
        "* 所以無論是買權或是賣權，**深度價內的合約其價格隨指數現貨變動的幅度愈大，愈是深度價外的合約，則愈不見其動靜**。\n",
        "* 另外，**delta值是一種對未來選擇權價格變動幅度的判斷，所以若選擇權實際變動的價格與delta值不符，則可能是在透露選擇權價格有支撐或是有壓力。**\n",
        "\n",
        "\n",
        "\n",
        "## 三、範例\n",
        "設今天履約價為5200的買權收盤時所計算的值為0.5，則代表若明天大盤收盤時上升10點，此買權的價格該會上升5點，而若大盤下跌10點，則此買權的價格應該會下跌5點。另設同一賣權的delta值為-0.5，則在上述的兩種大盤情況下，此賣權價格分別會下跌5點與上升5點。\n",
        "\n",
        "\n",
        "## 四\n",
        "交易者可以通過交易標的資產使自己成為 delta 中性 他們還使用 delta 作為衡量看漲期權和看跌期權的貨幣價值的指標 \n",
        "* 當 delta = 0.5 時，看漲期權是平價的 \n",
        "* 當 delta > 0.5 時看漲價內 \n",
        "* 當 delta < 0.5 時看漲期權是價外的 \n",
        "* 當 delta = –0.5 時，看跌期權是平價的 \n",
        "* 當 delta < –0.5 時，看跌期權處於價內 \n",
        "* 當 delta > –0.5 時，看跌期權處於價外狀態"
      ]
    },
    {
      "cell_type": "markdown",
      "metadata": {
        "id": "SC1rJHzGPQuT"
      },
      "source": [
        "# Black-Scholes-Merton\n",
        "* 期權的 Black-Scholes-Merton 價格取決於 S、K、r、q、s 和 T\n",
        "* S、K、r 和 T 是已知的選項\n",
        "* q 可以從期貨或遠期合約估計\n",
        "* 這意味著 s 是唯一的未知數,期權價格與 s 一一對應\n",
        "* 期權的隱含波動率是當代入 Black-Scholes-Merton 公式時給出期權在市場上的價格的波動率"
      ]
    },
    {
      "cell_type": "markdown",
      "metadata": {
        "id": "_kyyXRjaXUge"
      },
      "source": [
        "#Let's Start"
      ]
    },
    {
      "cell_type": "code",
      "metadata": {
        "id": "-AIlA4B-PQuW"
      },
      "source": [
        "import os\n",
        "\n",
        "import time\n",
        "import numpy as np\n",
        "import scipy as sci\n",
        "import scipy.io as sio\n",
        "import pandas as pd\n",
        "from sklearn.model_selection import train_test_split\n",
        "from sklearn.linear_model import LinearRegression\n",
        "from sklearn.metrics import mean_squared_error\n",
        "from sklearn.preprocessing import StandardScaler\n",
        "import tensorflow as tf\n",
        "from tensorflow.keras.layers import Dense\n",
        "from tensorflow import keras\n",
        "import matplotlib.pyplot as plt"
      ],
      "execution_count": null,
      "outputs": []
    },
    {
      "cell_type": "code",
      "metadata": {
        "colab": {
          "base_uri": "https://localhost:8080/",
          "height": 221
        },
        "id": "tewsz9DnPQuX",
        "outputId": "8478d22c-520a-4f7c-c464-af3af6e1b764"
      },
      "source": [
        "data=pd.read_csv('/content/Implied_Volatility_Data_vFinal.csv')\n",
        "print(\"Data shape : \", data.shape)\n",
        "data.head()"
      ],
      "execution_count": null,
      "outputs": [
        {
          "output_type": "stream",
          "name": "stdout",
          "text": [
            "Data shape :  (125700, 5)\n"
          ]
        },
        {
          "output_type": "execute_result",
          "data": {
            "text/html": [
              "<div>\n",
              "<style scoped>\n",
              "    .dataframe tbody tr th:only-of-type {\n",
              "        vertical-align: middle;\n",
              "    }\n",
              "\n",
              "    .dataframe tbody tr th {\n",
              "        vertical-align: top;\n",
              "    }\n",
              "\n",
              "    .dataframe thead th {\n",
              "        text-align: right;\n",
              "    }\n",
              "</style>\n",
              "<table border=\"1\" class=\"dataframe\">\n",
              "  <thead>\n",
              "    <tr style=\"text-align: right;\">\n",
              "      <th></th>\n",
              "      <th>Date</th>\n",
              "      <th>SPX Return</th>\n",
              "      <th>Time to Maturity in Year</th>\n",
              "      <th>Delta</th>\n",
              "      <th>Implied Volatility Change</th>\n",
              "    </tr>\n",
              "  </thead>\n",
              "  <tbody>\n",
              "    <tr>\n",
              "      <th>0</th>\n",
              "      <td>20140630</td>\n",
              "      <td>0.006678</td>\n",
              "      <td>0.184</td>\n",
              "      <td>0.745927</td>\n",
              "      <td>0.008462</td>\n",
              "    </tr>\n",
              "    <tr>\n",
              "      <th>1</th>\n",
              "      <td>20140630</td>\n",
              "      <td>0.006678</td>\n",
              "      <td>2.252</td>\n",
              "      <td>0.286911</td>\n",
              "      <td>0.002024</td>\n",
              "    </tr>\n",
              "    <tr>\n",
              "      <th>2</th>\n",
              "      <td>20140630</td>\n",
              "      <td>0.006678</td>\n",
              "      <td>0.124</td>\n",
              "      <td>0.902941</td>\n",
              "      <td>0.019707</td>\n",
              "    </tr>\n",
              "    <tr>\n",
              "      <th>3</th>\n",
              "      <td>20140630</td>\n",
              "      <td>0.006678</td>\n",
              "      <td>2.144</td>\n",
              "      <td>0.910926</td>\n",
              "      <td>0.006424</td>\n",
              "    </tr>\n",
              "    <tr>\n",
              "      <th>4</th>\n",
              "      <td>20140630</td>\n",
              "      <td>0.006678</td>\n",
              "      <td>1.412</td>\n",
              "      <td>0.885760</td>\n",
              "      <td>0.005673</td>\n",
              "    </tr>\n",
              "  </tbody>\n",
              "</table>\n",
              "</div>"
            ],
            "text/plain": [
              "       Date  SPX Return  ...     Delta  Implied Volatility Change\n",
              "0  20140630    0.006678  ...  0.745927                   0.008462\n",
              "1  20140630    0.006678  ...  0.286911                   0.002024\n",
              "2  20140630    0.006678  ...  0.902941                   0.019707\n",
              "3  20140630    0.006678  ...  0.910926                   0.006424\n",
              "4  20140630    0.006678  ...  0.885760                   0.005673\n",
              "\n",
              "[5 rows x 5 columns]"
            ]
          },
          "metadata": {},
          "execution_count": 3
        }
      ]
    },
    {
      "cell_type": "markdown",
      "metadata": {
        "id": "3gvPNA3LPQuY"
      },
      "source": [
        "## Feature engineering"
      ]
    },
    {
      "cell_type": "code",
      "metadata": {
        "id": "6PD3qyT_PQuY"
      },
      "source": [
        "#建立三個變數\n",
        "data['x1'] = data['SPX Return'] / np.sqrt(data['Time to Maturity in Year'])\n",
        "data['x2'] = data['SPX Return'] / np.sqrt(data['Time to Maturity in Year']) * data['Delta']\n",
        "data['x3'] = data['x2'] * data['Delta']\n",
        "\n",
        "y = data['Implied Volatility Change']\n",
        "X = data[['x1', 'x2', 'x3','SPX Return','Time to Maturity in Year','Delta']]"
      ],
      "execution_count": null,
      "outputs": []
    },
    {
      "cell_type": "code",
      "metadata": {
        "id": "j_XnBq9UPQuZ"
      },
      "source": [
        "#這裡把訓練,驗證,測試資料分開，並將他們標準化\n",
        "X_train,X_test,y_train,y_test=train_test_split(X,y,test_size=0.2)\n",
        "X_train,X_val,y_train,y_val=train_test_split(X_train,y_train,test_size=0.25)\n",
        "scaler = StandardScaler()\n",
        "scaler.fit(X_train)\n",
        "\n",
        "\n",
        "X_scaled_train = scaler.transform(X_train)\n",
        "X_scaled_vals = scaler.transform(X_val)\n",
        "X_scaled_test = scaler.transform(X_test)\n",
        "y_train = np.asarray(y_train)\n",
        "y_val = np.asarray(y_val)\n",
        "y_test = np.asarray(y_test)"
      ],
      "execution_count": null,
      "outputs": []
    },
    {
      "cell_type": "markdown",
      "metadata": {
        "id": "lrSrg5OtPQua"
      },
      "source": [
        "## 先試試線性回歸"
      ]
    },
    {
      "cell_type": "code",
      "metadata": {
        "colab": {
          "base_uri": "https://localhost:8080/"
        },
        "id": "jTvlcsxePQua",
        "outputId": "024af7fb-c9d8-44e8-e95c-82acd949a803"
      },
      "source": [
        "lr = LinearRegression(fit_intercept=False)\n",
        "lr.fit(X_scaled_train, y_train)\n",
        "\n",
        "y_pred = lr.predict(X_scaled_test)\n",
        "\n",
        "\n",
        "mse = mean_squared_error(y_test, y_pred)\n",
        "\n",
        "print('Test loss (MSE):', mse)"
      ],
      "execution_count": null,
      "outputs": [
        {
          "output_type": "stream",
          "name": "stdout",
          "text": [
            "Test loss (MSE): 8.308140841129049e-05\n"
          ]
        }
      ]
    },
    {
      "cell_type": "markdown",
      "metadata": {
        "id": "jBrY9oe0Zura"
      },
      "source": [
        "\n",
        "\n",
        "*   線性回歸模型得到了mse約8.3e-5\n",
        "\n",
        "\n"
      ]
    },
    {
      "cell_type": "markdown",
      "metadata": {
        "id": "1caeYzQWPQua"
      },
      "source": [
        "## 試試DL?\n",
        "下面我先用了DNN，後面試了CNN"
      ]
    },
    {
      "cell_type": "code",
      "metadata": {
        "colab": {
          "base_uri": "https://localhost:8080/"
        },
        "id": "xcPvgNQFPQub",
        "outputId": "dc16332d-dd9b-4413-df72-670f96ebb1d4"
      },
      "source": [
        "# Create ML Model\n",
        "# Sequential function allows you to define your Neural Network in sequential order\n",
        "# Within Sequential, use Dense function to define number of nodes, activation function and other related parameters \n",
        "# For more information regrading to activation functoin, please refer to https://keras.io/activations/\n",
        "model = keras.models.Sequential([Dense(20,activation = \"sigmoid\",input_shape = (3,)),\n",
        "                                 Dense(20,activation = \"sigmoid\"),Dense(20,activation = \"sigmoid\"),\n",
        "                                Dense(1)])\n",
        "\n",
        "# Model summary function shows what you created in the model\n",
        "model.summary()"
      ],
      "execution_count": null,
      "outputs": [
        {
          "output_type": "stream",
          "name": "stdout",
          "text": [
            "Model: \"sequential\"\n",
            "_________________________________________________________________\n",
            "Layer (type)                 Output Shape              Param #   \n",
            "=================================================================\n",
            "dense (Dense)                (None, 20)                80        \n",
            "_________________________________________________________________\n",
            "dense_1 (Dense)              (None, 20)                420       \n",
            "_________________________________________________________________\n",
            "dense_2 (Dense)              (None, 20)                420       \n",
            "_________________________________________________________________\n",
            "dense_3 (Dense)              (None, 1)                 21        \n",
            "=================================================================\n",
            "Total params: 941\n",
            "Trainable params: 941\n",
            "Non-trainable params: 0\n",
            "_________________________________________________________________\n"
          ]
        }
      ]
    },
    {
      "cell_type": "code",
      "metadata": {
        "id": "bEuYT_VDPQub"
      },
      "source": [
        "model.compile(loss = \"mse\",optimizer = \"Adam\")\n",
        "checkpoint_cb = keras.callbacks.ModelCheckpoint(\"implied_vol_model_vFinal.h5\",save_best_only = True)\n",
        "early_stopping_cb = keras.callbacks.EarlyStopping(patience = 1000,restore_best_weights = True)\n",
        "history=model.fit(X_scaled_train,y_train,epochs=50000, batch_size = 128, validation_data=(X_scaled_vals,y_val),\n",
        "                 callbacks=[checkpoint_cb, early_stopping_cb])"
      ],
      "execution_count": null,
      "outputs": []
    },
    {
      "cell_type": "code",
      "metadata": {
        "id": "c-U8BY__PQuc",
        "outputId": "dfe4e5a5-e03b-452b-9a2c-75901dc4e62f"
      },
      "source": [
        "\n",
        "model = keras.models.load_model(\"implied_vol_model_vFinal.h5\")\n",
        "mse_test = model.evaluate(X_scaled_test,y_test,verbose=0)\n",
        "\n",
        "print('Test Loss(MSE):', mse_test)"
      ],
      "execution_count": null,
      "outputs": [
        {
          "name": "stdout",
          "output_type": "stream",
          "text": [
            "WARNING:tensorflow:From C:\\Users\\hull\\AppData\\Local\\Continuum\\anaconda3\\lib\\site-packages\\tensorflow\\python\\ops\\init_ops.py:97: calling GlorotUniform.__init__ (from tensorflow.python.ops.init_ops) with dtype is deprecated and will be removed in a future version.\n",
            "Instructions for updating:\n",
            "Call initializer instance with the dtype argument instead of passing it to the constructor\n",
            "WARNING:tensorflow:From C:\\Users\\hull\\AppData\\Local\\Continuum\\anaconda3\\lib\\site-packages\\tensorflow\\python\\ops\\init_ops.py:97: calling Zeros.__init__ (from tensorflow.python.ops.init_ops) with dtype is deprecated and will be removed in a future version.\n",
            "Instructions for updating:\n",
            "Call initializer instance with the dtype argument instead of passing it to the constructor\n",
            "Test Loss(MSE): 6.360488168301777e-05\n"
          ]
        }
      ]
    },
    {
      "cell_type": "markdown",
      "metadata": {
        "id": "NK6F6Kyyaq1X"
      },
      "source": [
        "\n",
        "\n",
        "*   使用DNN的方式得到約6.3e-5的mse\n"
      ]
    },
    {
      "cell_type": "markdown",
      "metadata": {
        "id": "cna7gOj9PQuc"
      },
      "source": [
        "## Review your results and export training history\n"
      ]
    },
    {
      "cell_type": "code",
      "metadata": {
        "id": "6Da-vNPePQuc",
        "outputId": "b1d081dd-84d4-42fb-e585-3d95c90de2da"
      },
      "source": [
        "\n",
        "pd.DataFrame(history.history).plot(figsize=(8,5))\n",
        "plt.grid(True)\n",
        "plt.gca().set_ylim(0.00007,0.00015)\n",
        "plt.show()\n",
        "\n",
        "output = pd.DataFrame(history.history)\n",
        "output.to_csv(\"mse_overtime.csv\")"
      ],
      "execution_count": null,
      "outputs": [
        {
          "data": {
            "image/png": "[encoded data removed]",
            "text/plain": [
              "<Figure size 576x360 with 1 Axes>"
            ]
          },
          "metadata": {
            "needs_background": "light"
          },
          "output_type": "display_data"
        }
      ]
    },
    {
      "cell_type": "markdown",
      "metadata": {
        "id": "fKYe0oszbKIi"
      },
      "source": [
        "# 嘗試使用CNN"
      ]
    },
    {
      "cell_type": "code",
      "metadata": {
        "colab": {
          "base_uri": "https://localhost:8080/"
        },
        "id": "Xom8siTpbCO7",
        "outputId": "c0cb47a5-d2a9-4a60-c29b-147c9dfd0d83"
      },
      "source": [
        "from keras import layers\n",
        "inputs=keras.Input(shape=(6,1))\n",
        "x = layers.Conv1D(64, 3, activation=\"relu\")(inputs)\n",
        "x = layers.MaxPooling1D(2)(x)\n",
        "x = layers.Conv1D(128, 2, activation=\"relu\")(x)\n",
        "x = layers.MaxPooling1D(1)(x)\n",
        "x = layers.Conv1D(64, 1, activation=\"relu\")(x)\n",
        "x = layers.GlobalAveragePooling1D()(x)\n",
        "outputs = layers.Dense(1)(x)\n",
        "model = keras.Model(inputs, outputs)\n",
        "\n",
        "model.summary()"
      ],
      "execution_count": null,
      "outputs": [
        {
          "output_type": "stream",
          "name": "stdout",
          "text": [
            "Model: \"model\"\n",
            "_________________________________________________________________\n",
            "Layer (type)                 Output Shape              Param #   \n",
            "=================================================================\n",
            "input_2 (InputLayer)         [(None, 6, 1)]            0         \n",
            "_________________________________________________________________\n",
            "conv1d (Conv1D)              (None, 4, 64)             256       \n",
            "_________________________________________________________________\n",
            "max_pooling1d (MaxPooling1D) (None, 2, 64)             0         \n",
            "_________________________________________________________________\n",
            "conv1d_1 (Conv1D)            (None, 1, 128)            16512     \n",
            "_________________________________________________________________\n",
            "max_pooling1d_1 (MaxPooling1 (None, 1, 128)            0         \n",
            "_________________________________________________________________\n",
            "conv1d_2 (Conv1D)            (None, 1, 64)             8256      \n",
            "_________________________________________________________________\n",
            "global_average_pooling1d (Gl (None, 64)                0         \n",
            "_________________________________________________________________\n",
            "dense_4 (Dense)              (None, 1)                 65        \n",
            "=================================================================\n",
            "Total params: 25,089\n",
            "Trainable params: 25,089\n",
            "Non-trainable params: 0\n",
            "_________________________________________________________________\n"
          ]
        }
      ]
    },
    {
      "cell_type": "code",
      "metadata": {
        "id": "Y_QmIKzHbhi1"
      },
      "source": [
        "model.compile(loss = \"mse\",optimizer = \"Adam\")\n",
        "early_stopping_cb = keras.callbacks.EarlyStopping(patience =100,restore_best_weights = True)"
      ],
      "execution_count": null,
      "outputs": []
    },
    {
      "cell_type": "code",
      "metadata": {
        "colab": {
          "base_uri": "https://localhost:8080/"
        },
        "id": "TXZ8_kEgbiKs",
        "outputId": "cef67ed0-817b-41e1-e13e-2ff18bc4ab1c"
      },
      "source": [
        "history=model.fit(X_scaled_train,y_train,epochs=600, batch_size =64,validation_data=(X_scaled_vals,y_val),\n",
        "                 callbacks=[early_stopping_cb])"
      ],
      "execution_count": null,
      "outputs": [
        {
          "output_type": "stream",
          "name": "stdout",
          "text": [
            "Epoch 1/600\n",
            "1179/1179 [==============================] - 38s 6ms/step - loss: 1.5942e-04 - val_loss: 8.5361e-05\n",
            "Epoch 2/600\n",
            "1179/1179 [==============================] - 7s 6ms/step - loss: 8.3488e-05 - val_loss: 8.9669e-05\n",
            "Epoch 3/600\n",
            "1179/1179 [==============================] - 7s 6ms/step - loss: 7.6120e-05 - val_loss: 7.6089e-05\n",
            "Epoch 4/600\n",
            "1179/1179 [==============================] - 7s 6ms/step - loss: 7.3495e-05 - val_loss: 7.4959e-05\n",
            "Epoch 5/600\n",
            "1179/1179 [==============================] - 7s 6ms/step - loss: 7.2405e-05 - val_loss: 7.5501e-05\n",
            "Epoch 6/600\n",
            "1179/1179 [==============================] - 7s 6ms/step - loss: 7.2285e-05 - val_loss: 7.5614e-05\n",
            "Epoch 7/600\n",
            "1179/1179 [==============================] - 7s 6ms/step - loss: 7.0845e-05 - val_loss: 7.5238e-05\n",
            "Epoch 8/600\n",
            "1179/1179 [==============================] - 7s 6ms/step - loss: 7.0940e-05 - val_loss: 7.6501e-05\n",
            "Epoch 9/600\n",
            "1179/1179 [==============================] - 7s 6ms/step - loss: 6.9982e-05 - val_loss: 7.2606e-05\n",
            "Epoch 10/600\n",
            "1179/1179 [==============================] - 7s 6ms/step - loss: 6.9701e-05 - val_loss: 7.3241e-05\n",
            "Epoch 11/600\n",
            "1179/1179 [==============================] - 7s 6ms/step - loss: 6.9504e-05 - val_loss: 7.2399e-05\n",
            "Epoch 12/600\n",
            "1179/1179 [==============================] - 7s 6ms/step - loss: 6.9099e-05 - val_loss: 7.3193e-05\n",
            "Epoch 13/600\n",
            "1179/1179 [==============================] - 7s 6ms/step - loss: 6.8807e-05 - val_loss: 7.2509e-05\n",
            "Epoch 14/600\n",
            "1179/1179 [==============================] - 7s 6ms/step - loss: 6.8993e-05 - val_loss: 7.4911e-05\n",
            "Epoch 15/600\n",
            "1179/1179 [==============================] - 7s 6ms/step - loss: 6.8943e-05 - val_loss: 7.1248e-05\n",
            "Epoch 16/600\n",
            "1179/1179 [==============================] - 7s 6ms/step - loss: 6.8358e-05 - val_loss: 7.2844e-05\n",
            "Epoch 17/600\n",
            "1179/1179 [==============================] - 7s 6ms/step - loss: 6.8486e-05 - val_loss: 7.1963e-05\n",
            "Epoch 18/600\n",
            "1179/1179 [==============================] - 7s 6ms/step - loss: 6.8139e-05 - val_loss: 7.2098e-05\n",
            "Epoch 19/600\n",
            "1179/1179 [==============================] - 7s 6ms/step - loss: 6.8092e-05 - val_loss: 7.0496e-05\n",
            "Epoch 20/600\n",
            "1179/1179 [==============================] - 7s 6ms/step - loss: 6.7920e-05 - val_loss: 7.2266e-05\n",
            "Epoch 21/600\n",
            "1179/1179 [==============================] - 7s 6ms/step - loss: 6.8008e-05 - val_loss: 7.2007e-05\n",
            "Epoch 22/600\n",
            "1179/1179 [==============================] - 7s 6ms/step - loss: 6.7729e-05 - val_loss: 7.2288e-05\n",
            "Epoch 23/600\n",
            "1179/1179 [==============================] - 7s 6ms/step - loss: 6.7689e-05 - val_loss: 7.1396e-05\n",
            "Epoch 24/600\n",
            "1179/1179 [==============================] - 7s 6ms/step - loss: 6.7704e-05 - val_loss: 7.2045e-05\n",
            "Epoch 25/600\n",
            "1179/1179 [==============================] - 7s 6ms/step - loss: 6.7345e-05 - val_loss: 7.2702e-05\n",
            "Epoch 26/600\n",
            "1179/1179 [==============================] - 7s 6ms/step - loss: 6.7649e-05 - val_loss: 7.2417e-05\n",
            "Epoch 27/600\n",
            "1179/1179 [==============================] - 7s 6ms/step - loss: 6.7301e-05 - val_loss: 7.0786e-05\n",
            "Epoch 28/600\n",
            "1179/1179 [==============================] - 7s 6ms/step - loss: 6.7268e-05 - val_loss: 7.1238e-05\n",
            "Epoch 29/600\n",
            "1179/1179 [==============================] - 7s 6ms/step - loss: 6.7495e-05 - val_loss: 7.1892e-05\n",
            "Epoch 30/600\n",
            "1179/1179 [==============================] - 7s 6ms/step - loss: 6.7293e-05 - val_loss: 7.0817e-05\n",
            "Epoch 31/600\n",
            "1179/1179 [==============================] - 7s 6ms/step - loss: 6.7268e-05 - val_loss: 7.1185e-05\n",
            "Epoch 32/600\n",
            "1179/1179 [==============================] - 7s 6ms/step - loss: 6.7477e-05 - val_loss: 7.0845e-05\n",
            "Epoch 33/600\n",
            "1179/1179 [==============================] - 7s 6ms/step - loss: 6.7276e-05 - val_loss: 7.0509e-05\n",
            "Epoch 34/600\n",
            "1179/1179 [==============================] - 7s 6ms/step - loss: 6.7175e-05 - val_loss: 7.1628e-05\n",
            "Epoch 35/600\n",
            "1179/1179 [==============================] - 7s 6ms/step - loss: 6.6869e-05 - val_loss: 7.4694e-05\n",
            "Epoch 36/600\n",
            "1179/1179 [==============================] - 7s 6ms/step - loss: 6.7146e-05 - val_loss: 7.6591e-05\n",
            "Epoch 37/600\n",
            "1179/1179 [==============================] - 7s 6ms/step - loss: 6.6879e-05 - val_loss: 7.0803e-05\n",
            "Epoch 38/600\n",
            "1179/1179 [==============================] - 7s 6ms/step - loss: 6.6984e-05 - val_loss: 7.1149e-05\n",
            "Epoch 39/600\n",
            "1179/1179 [==============================] - 7s 6ms/step - loss: 6.6934e-05 - val_loss: 7.0289e-05\n",
            "Epoch 40/600\n",
            "1179/1179 [==============================] - 7s 6ms/step - loss: 6.6864e-05 - val_loss: 7.0314e-05\n",
            "Epoch 41/600\n",
            "1179/1179 [==============================] - 7s 6ms/step - loss: 6.7107e-05 - val_loss: 7.0381e-05\n",
            "Epoch 42/600\n",
            "1179/1179 [==============================] - 7s 6ms/step - loss: 6.6762e-05 - val_loss: 7.1250e-05\n",
            "Epoch 43/600\n",
            "1179/1179 [==============================] - 7s 6ms/step - loss: 6.6608e-05 - val_loss: 7.8495e-05\n",
            "Epoch 44/600\n",
            "1179/1179 [==============================] - 7s 6ms/step - loss: 6.7313e-05 - val_loss: 7.0535e-05\n",
            "Epoch 45/600\n",
            "1179/1179 [==============================] - 7s 6ms/step - loss: 6.6514e-05 - val_loss: 7.3160e-05\n",
            "Epoch 46/600\n",
            "1179/1179 [==============================] - 7s 6ms/step - loss: 6.7037e-05 - val_loss: 7.0640e-05\n",
            "Epoch 47/600\n",
            "1179/1179 [==============================] - 7s 6ms/step - loss: 6.6487e-05 - val_loss: 7.3294e-05\n",
            "Epoch 48/600\n",
            "1179/1179 [==============================] - 7s 6ms/step - loss: 6.6745e-05 - val_loss: 7.3419e-05\n",
            "Epoch 49/600\n",
            "1179/1179 [==============================] - 7s 6ms/step - loss: 6.6624e-05 - val_loss: 7.0764e-05\n",
            "Epoch 50/600\n",
            "1179/1179 [==============================] - 7s 6ms/step - loss: 6.6640e-05 - val_loss: 7.1948e-05\n",
            "Epoch 51/600\n",
            "1179/1179 [==============================] - 7s 6ms/step - loss: 6.6742e-05 - val_loss: 7.4931e-05\n",
            "Epoch 52/600\n",
            "1179/1179 [==============================] - 7s 6ms/step - loss: 6.6588e-05 - val_loss: 7.0378e-05\n",
            "Epoch 53/600\n",
            "1179/1179 [==============================] - 7s 6ms/step - loss: 6.6842e-05 - val_loss: 7.0121e-05\n",
            "Epoch 54/600\n",
            "1179/1179 [==============================] - 7s 6ms/step - loss: 6.6413e-05 - val_loss: 7.0657e-05\n",
            "Epoch 55/600\n",
            "1179/1179 [==============================] - 7s 6ms/step - loss: 6.6696e-05 - val_loss: 7.0733e-05\n",
            "Epoch 56/600\n",
            "1179/1179 [==============================] - 7s 6ms/step - loss: 6.6252e-05 - val_loss: 7.1180e-05\n",
            "Epoch 57/600\n",
            "1179/1179 [==============================] - 7s 6ms/step - loss: 6.6463e-05 - val_loss: 7.2332e-05\n",
            "Epoch 58/600\n",
            "1179/1179 [==============================] - 7s 6ms/step - loss: 6.6324e-05 - val_loss: 7.1703e-05\n",
            "Epoch 59/600\n",
            "1179/1179 [==============================] - 7s 6ms/step - loss: 6.6089e-05 - val_loss: 7.0501e-05\n",
            "Epoch 60/600\n",
            "1179/1179 [==============================] - 7s 6ms/step - loss: 6.6623e-05 - val_loss: 7.2930e-05\n",
            "Epoch 61/600\n",
            "1179/1179 [==============================] - 7s 6ms/step - loss: 6.6501e-05 - val_loss: 7.0913e-05\n",
            "Epoch 62/600\n",
            "1179/1179 [==============================] - 7s 6ms/step - loss: 6.6177e-05 - val_loss: 7.0905e-05\n",
            "Epoch 63/600\n",
            "1179/1179 [==============================] - 7s 6ms/step - loss: 6.6550e-05 - val_loss: 7.2358e-05\n",
            "Epoch 64/600\n",
            "1179/1179 [==============================] - 7s 6ms/step - loss: 6.6157e-05 - val_loss: 7.7644e-05\n",
            "Epoch 65/600\n",
            "1179/1179 [==============================] - 7s 6ms/step - loss: 6.6265e-05 - val_loss: 7.0689e-05\n",
            "Epoch 66/600\n",
            "1179/1179 [==============================] - 7s 6ms/step - loss: 6.6672e-05 - val_loss: 7.1222e-05\n",
            "Epoch 67/600\n",
            "1179/1179 [==============================] - 7s 6ms/step - loss: 6.6691e-05 - val_loss: 7.1027e-05\n",
            "Epoch 68/600\n",
            "1179/1179 [==============================] - 7s 6ms/step - loss: 6.6357e-05 - val_loss: 7.1231e-05\n",
            "Epoch 69/600\n",
            "1179/1179 [==============================] - 7s 6ms/step - loss: 6.6413e-05 - val_loss: 7.1132e-05\n",
            "Epoch 70/600\n",
            "1179/1179 [==============================] - 7s 6ms/step - loss: 6.6105e-05 - val_loss: 7.0488e-05\n",
            "Epoch 71/600\n",
            "1179/1179 [==============================] - 7s 6ms/step - loss: 6.6070e-05 - val_loss: 7.1074e-05\n",
            "Epoch 72/600\n",
            "1179/1179 [==============================] - 7s 6ms/step - loss: 6.6285e-05 - val_loss: 6.9766e-05\n",
            "Epoch 73/600\n",
            "1179/1179 [==============================] - 7s 6ms/step - loss: 6.5959e-05 - val_loss: 7.0047e-05\n",
            "Epoch 74/600\n",
            "1179/1179 [==============================] - 7s 6ms/step - loss: 6.6276e-05 - val_loss: 7.3749e-05\n",
            "Epoch 75/600\n",
            "1179/1179 [==============================] - 7s 6ms/step - loss: 6.6375e-05 - val_loss: 7.1089e-05\n",
            "Epoch 76/600\n",
            "1179/1179 [==============================] - 7s 6ms/step - loss: 6.6788e-05 - val_loss: 7.0385e-05\n",
            "Epoch 77/600\n",
            "1179/1179 [==============================] - 7s 6ms/step - loss: 6.6263e-05 - val_loss: 7.0470e-05\n",
            "Epoch 78/600\n",
            "1179/1179 [==============================] - 7s 6ms/step - loss: 6.5960e-05 - val_loss: 7.1081e-05\n",
            "Epoch 79/600\n",
            "1179/1179 [==============================] - 7s 6ms/step - loss: 6.6125e-05 - val_loss: 7.1659e-05\n",
            "Epoch 80/600\n",
            "1179/1179 [==============================] - 7s 6ms/step - loss: 6.6134e-05 - val_loss: 7.0661e-05\n",
            "Epoch 81/600\n",
            "1179/1179 [==============================] - 7s 6ms/step - loss: 6.6408e-05 - val_loss: 7.0564e-05\n",
            "Epoch 82/600\n",
            "1179/1179 [==============================] - 7s 6ms/step - loss: 6.6181e-05 - val_loss: 7.1895e-05\n",
            "Epoch 83/600\n",
            "1179/1179 [==============================] - 7s 6ms/step - loss: 6.5917e-05 - val_loss: 7.2376e-05\n",
            "Epoch 84/600\n",
            "1179/1179 [==============================] - 7s 6ms/step - loss: 6.6195e-05 - val_loss: 7.0055e-05\n",
            "Epoch 85/600\n",
            "1179/1179 [==============================] - 7s 6ms/step - loss: 6.6447e-05 - val_loss: 7.3385e-05\n",
            "Epoch 86/600\n",
            "1179/1179 [==============================] - 7s 6ms/step - loss: 6.5914e-05 - val_loss: 6.9628e-05\n",
            "Epoch 87/600\n",
            "1179/1179 [==============================] - 7s 6ms/step - loss: 6.5694e-05 - val_loss: 6.9672e-05\n",
            "Epoch 88/600\n",
            "1179/1179 [==============================] - 7s 6ms/step - loss: 6.5967e-05 - val_loss: 7.0470e-05\n",
            "Epoch 89/600\n",
            "1179/1179 [==============================] - 8s 6ms/step - loss: 6.5912e-05 - val_loss: 7.5485e-05\n",
            "Epoch 90/600\n",
            "1179/1179 [==============================] - 7s 6ms/step - loss: 6.5686e-05 - val_loss: 7.1034e-05\n",
            "Epoch 91/600\n",
            "1179/1179 [==============================] - 7s 6ms/step - loss: 6.5773e-05 - val_loss: 7.2152e-05\n",
            "Epoch 92/600\n",
            "1179/1179 [==============================] - 7s 6ms/step - loss: 6.5660e-05 - val_loss: 1.0205e-04\n",
            "Epoch 93/600\n",
            "1179/1179 [==============================] - 7s 6ms/step - loss: 6.5947e-05 - val_loss: 7.0844e-05\n",
            "Epoch 94/600\n",
            "1179/1179 [==============================] - 7s 6ms/step - loss: 6.5890e-05 - val_loss: 7.1144e-05\n",
            "Epoch 95/600\n",
            "1179/1179 [==============================] - 7s 6ms/step - loss: 6.6041e-05 - val_loss: 7.1386e-05\n",
            "Epoch 96/600\n",
            "1179/1179 [==============================] - 7s 6ms/step - loss: 6.5425e-05 - val_loss: 7.2322e-05\n",
            "Epoch 97/600\n",
            "1179/1179 [==============================] - 7s 6ms/step - loss: 6.5978e-05 - val_loss: 7.1489e-05\n",
            "Epoch 98/600\n",
            "1179/1179 [==============================] - 7s 6ms/step - loss: 6.5765e-05 - val_loss: 7.0214e-05\n",
            "Epoch 99/600\n",
            "1179/1179 [==============================] - 7s 6ms/step - loss: 6.5553e-05 - val_loss: 7.0009e-05\n",
            "Epoch 100/600\n",
            "1179/1179 [==============================] - 7s 6ms/step - loss: 6.5650e-05 - val_loss: 6.9945e-05\n",
            "Epoch 101/600\n",
            "1179/1179 [==============================] - 7s 6ms/step - loss: 6.6016e-05 - val_loss: 6.9744e-05\n",
            "Epoch 102/600\n",
            "1179/1179 [==============================] - 7s 6ms/step - loss: 6.5671e-05 - val_loss: 7.1513e-05\n",
            "Epoch 103/600\n",
            "1179/1179 [==============================] - 7s 6ms/step - loss: 6.6002e-05 - val_loss: 7.2273e-05\n",
            "Epoch 104/600\n",
            "1179/1179 [==============================] - 7s 6ms/step - loss: 6.5771e-05 - val_loss: 7.0359e-05\n",
            "Epoch 105/600\n",
            "1179/1179 [==============================] - 7s 6ms/step - loss: 6.5500e-05 - val_loss: 7.1682e-05\n",
            "Epoch 106/600\n",
            "1179/1179 [==============================] - 7s 6ms/step - loss: 6.5832e-05 - val_loss: 7.0468e-05\n",
            "Epoch 107/600\n",
            "1179/1179 [==============================] - 7s 6ms/step - loss: 6.5469e-05 - val_loss: 7.0069e-05\n",
            "Epoch 108/600\n",
            "1179/1179 [==============================] - 7s 6ms/step - loss: 6.5646e-05 - val_loss: 7.0239e-05\n",
            "Epoch 109/600\n",
            "1179/1179 [==============================] - 7s 6ms/step - loss: 6.6043e-05 - val_loss: 7.0915e-05\n",
            "Epoch 110/600\n",
            "1179/1179 [==============================] - 7s 6ms/step - loss: 6.5861e-05 - val_loss: 6.9998e-05\n",
            "Epoch 111/600\n",
            "1179/1179 [==============================] - 7s 6ms/step - loss: 6.5435e-05 - val_loss: 6.9846e-05\n",
            "Epoch 112/600\n",
            "1179/1179 [==============================] - 7s 6ms/step - loss: 6.5278e-05 - val_loss: 7.0359e-05\n",
            "Epoch 113/600\n",
            "1179/1179 [==============================] - 7s 6ms/step - loss: 6.5470e-05 - val_loss: 7.0149e-05\n",
            "Epoch 114/600\n",
            "1179/1179 [==============================] - 7s 6ms/step - loss: 6.5336e-05 - val_loss: 7.0390e-05\n",
            "Epoch 115/600\n",
            "1179/1179 [==============================] - 7s 6ms/step - loss: 6.5318e-05 - val_loss: 7.0289e-05\n",
            "Epoch 116/600\n",
            "1179/1179 [==============================] - 7s 6ms/step - loss: 6.5435e-05 - val_loss: 7.0047e-05\n",
            "Epoch 117/600\n",
            "1179/1179 [==============================] - 7s 6ms/step - loss: 6.5947e-05 - val_loss: 7.0326e-05\n",
            "Epoch 118/600\n",
            "1179/1179 [==============================] - 7s 6ms/step - loss: 6.5742e-05 - val_loss: 7.0894e-05\n",
            "Epoch 119/600\n",
            "1179/1179 [==============================] - 7s 6ms/step - loss: 6.5433e-05 - val_loss: 7.1580e-05\n",
            "Epoch 120/600\n",
            "1179/1179 [==============================] - 7s 6ms/step - loss: 6.5757e-05 - val_loss: 7.1305e-05\n",
            "Epoch 121/600\n",
            "1179/1179 [==============================] - 7s 6ms/step - loss: 6.5623e-05 - val_loss: 7.2567e-05\n",
            "Epoch 122/600\n",
            "1179/1179 [==============================] - 7s 6ms/step - loss: 6.6137e-05 - val_loss: 7.0285e-05\n",
            "Epoch 123/600\n",
            "1179/1179 [==============================] - 7s 6ms/step - loss: 6.5138e-05 - val_loss: 7.0515e-05\n",
            "Epoch 124/600\n",
            "1179/1179 [==============================] - 7s 6ms/step - loss: 6.5304e-05 - val_loss: 7.0569e-05\n",
            "Epoch 125/600\n",
            "1179/1179 [==============================] - 7s 6ms/step - loss: 6.5446e-05 - val_loss: 7.5399e-05\n",
            "Epoch 126/600\n",
            "1179/1179 [==============================] - 7s 6ms/step - loss: 6.6004e-05 - val_loss: 7.0346e-05\n",
            "Epoch 127/600\n",
            "1179/1179 [==============================] - 7s 6ms/step - loss: 6.5386e-05 - val_loss: 7.1470e-05\n",
            "Epoch 128/600\n",
            "1179/1179 [==============================] - 7s 6ms/step - loss: 6.5179e-05 - val_loss: 7.0400e-05\n",
            "Epoch 129/600\n",
            "1179/1179 [==============================] - 7s 6ms/step - loss: 6.5093e-05 - val_loss: 7.0682e-05\n",
            "Epoch 130/600\n",
            "1179/1179 [==============================] - 7s 6ms/step - loss: 6.7091e-05 - val_loss: 7.2059e-05\n",
            "Epoch 131/600\n",
            "1179/1179 [==============================] - 7s 6ms/step - loss: 6.6379e-05 - val_loss: 7.3953e-05\n",
            "Epoch 132/600\n",
            "1179/1179 [==============================] - 7s 6ms/step - loss: 6.6510e-05 - val_loss: 7.1469e-05\n",
            "Epoch 133/600\n",
            "1179/1179 [==============================] - 8s 6ms/step - loss: 6.6363e-05 - val_loss: 7.0763e-05\n",
            "Epoch 134/600\n",
            "1179/1179 [==============================] - 7s 6ms/step - loss: 6.6125e-05 - val_loss: 7.0240e-05\n",
            "Epoch 135/600\n",
            "1179/1179 [==============================] - 7s 6ms/step - loss: 6.6398e-05 - val_loss: 7.0817e-05\n",
            "Epoch 136/600\n",
            "1179/1179 [==============================] - 7s 6ms/step - loss: 6.6249e-05 - val_loss: 7.0356e-05\n",
            "Epoch 137/600\n",
            "1179/1179 [==============================] - 7s 6ms/step - loss: 6.6044e-05 - val_loss: 7.0442e-05\n",
            "Epoch 138/600\n",
            "1179/1179 [==============================] - 7s 6ms/step - loss: 6.5806e-05 - val_loss: 7.2936e-05\n",
            "Epoch 139/600\n",
            "1179/1179 [==============================] - 7s 6ms/step - loss: 6.5535e-05 - val_loss: 6.9747e-05\n",
            "Epoch 140/600\n",
            "1179/1179 [==============================] - 7s 6ms/step - loss: 6.6207e-05 - val_loss: 7.2469e-05\n",
            "Epoch 141/600\n",
            "1179/1179 [==============================] - 7s 6ms/step - loss: 6.6634e-05 - val_loss: 7.0355e-05\n",
            "Epoch 142/600\n",
            "1179/1179 [==============================] - 7s 6ms/step - loss: 6.5517e-05 - val_loss: 7.0861e-05\n",
            "Epoch 143/600\n",
            "1179/1179 [==============================] - 7s 6ms/step - loss: 6.5490e-05 - val_loss: 7.1142e-05\n",
            "Epoch 144/600\n",
            "1179/1179 [==============================] - 7s 6ms/step - loss: 6.5412e-05 - val_loss: 7.1297e-05\n",
            "Epoch 145/600\n",
            "1179/1179 [==============================] - 7s 6ms/step - loss: 6.5413e-05 - val_loss: 7.2447e-05\n",
            "Epoch 146/600\n",
            "1179/1179 [==============================] - 7s 6ms/step - loss: 6.5319e-05 - val_loss: 7.1054e-05\n",
            "Epoch 147/600\n",
            "1179/1179 [==============================] - 7s 6ms/step - loss: 6.5860e-05 - val_loss: 7.1011e-05\n",
            "Epoch 148/600\n",
            "1179/1179 [==============================] - 7s 6ms/step - loss: 6.5495e-05 - val_loss: 7.6088e-05\n",
            "Epoch 149/600\n",
            "1179/1179 [==============================] - 7s 6ms/step - loss: 6.5506e-05 - val_loss: 7.0404e-05\n",
            "Epoch 150/600\n",
            "1179/1179 [==============================] - 8s 6ms/step - loss: 6.5026e-05 - val_loss: 7.6993e-05\n",
            "Epoch 151/600\n",
            "1179/1179 [==============================] - 7s 6ms/step - loss: 6.5328e-05 - val_loss: 7.6009e-05\n",
            "Epoch 152/600\n",
            "1179/1179 [==============================] - 7s 6ms/step - loss: 6.5543e-05 - val_loss: 7.1586e-05\n",
            "Epoch 153/600\n",
            "1179/1179 [==============================] - 7s 6ms/step - loss: 6.5249e-05 - val_loss: 7.3650e-05\n",
            "Epoch 154/600\n",
            "1179/1179 [==============================] - 7s 6ms/step - loss: 6.5238e-05 - val_loss: 7.0991e-05\n",
            "Epoch 155/600\n",
            "1179/1179 [==============================] - 7s 6ms/step - loss: 6.5688e-05 - val_loss: 7.1627e-05\n",
            "Epoch 156/600\n",
            "1179/1179 [==============================] - 7s 6ms/step - loss: 6.5845e-05 - val_loss: 7.0566e-05\n",
            "Epoch 157/600\n",
            "1179/1179 [==============================] - 7s 6ms/step - loss: 6.5258e-05 - val_loss: 7.0230e-05\n",
            "Epoch 158/600\n",
            "1179/1179 [==============================] - 7s 6ms/step - loss: 6.5161e-05 - val_loss: 6.9647e-05\n",
            "Epoch 159/600\n",
            "1179/1179 [==============================] - 7s 6ms/step - loss: 6.5550e-05 - val_loss: 7.3248e-05\n",
            "Epoch 160/600\n",
            "1179/1179 [==============================] - 7s 6ms/step - loss: 6.5478e-05 - val_loss: 6.9637e-05\n",
            "Epoch 161/600\n",
            "1179/1179 [==============================] - 7s 6ms/step - loss: 6.5413e-05 - val_loss: 7.1345e-05\n",
            "Epoch 162/600\n",
            "1179/1179 [==============================] - 7s 6ms/step - loss: 6.5393e-05 - val_loss: 7.2791e-05\n",
            "Epoch 163/600\n",
            "1179/1179 [==============================] - 7s 6ms/step - loss: 6.5500e-05 - val_loss: 7.0282e-05\n",
            "Epoch 164/600\n",
            "1179/1179 [==============================] - 8s 6ms/step - loss: 6.5009e-05 - val_loss: 7.0793e-05\n",
            "Epoch 165/600\n",
            "1179/1179 [==============================] - 8s 6ms/step - loss: 6.5443e-05 - val_loss: 7.2845e-05\n",
            "Epoch 166/600\n",
            "1179/1179 [==============================] - 8s 6ms/step - loss: 6.5369e-05 - val_loss: 7.0337e-05\n",
            "Epoch 167/600\n",
            "1179/1179 [==============================] - 8s 6ms/step - loss: 6.5084e-05 - val_loss: 7.0400e-05\n",
            "Epoch 168/600\n",
            "1179/1179 [==============================] - 8s 6ms/step - loss: 6.6061e-05 - val_loss: 7.0344e-05\n",
            "Epoch 169/600\n",
            "1179/1179 [==============================] - 7s 6ms/step - loss: 6.5288e-05 - val_loss: 7.1220e-05\n",
            "Epoch 170/600\n",
            "1179/1179 [==============================] - 7s 6ms/step - loss: 6.5195e-05 - val_loss: 7.1159e-05\n",
            "Epoch 171/600\n",
            "1179/1179 [==============================] - 7s 6ms/step - loss: 6.5056e-05 - val_loss: 7.1052e-05\n",
            "Epoch 172/600\n",
            "1179/1179 [==============================] - 7s 6ms/step - loss: 6.5095e-05 - val_loss: 7.1462e-05\n",
            "Epoch 173/600\n",
            "1179/1179 [==============================] - 7s 6ms/step - loss: 6.5400e-05 - val_loss: 7.0467e-05\n",
            "Epoch 174/600\n",
            "1179/1179 [==============================] - 8s 6ms/step - loss: 6.5023e-05 - val_loss: 7.7064e-05\n",
            "Epoch 175/600\n",
            "1179/1179 [==============================] - 8s 6ms/step - loss: 6.5144e-05 - val_loss: 7.1375e-05\n",
            "Epoch 176/600\n",
            "1179/1179 [==============================] - 8s 6ms/step - loss: 6.5113e-05 - val_loss: 7.0552e-05\n",
            "Epoch 177/600\n",
            "1179/1179 [==============================] - 8s 6ms/step - loss: 6.5385e-05 - val_loss: 7.0862e-05\n",
            "Epoch 178/600\n",
            "1179/1179 [==============================] - 7s 6ms/step - loss: 6.4964e-05 - val_loss: 7.0590e-05\n",
            "Epoch 179/600\n",
            "1179/1179 [==============================] - 7s 6ms/step - loss: 6.5070e-05 - val_loss: 7.0023e-05\n",
            "Epoch 180/600\n",
            "1179/1179 [==============================] - 8s 6ms/step - loss: 6.5580e-05 - val_loss: 7.1019e-05\n",
            "Epoch 181/600\n",
            "1179/1179 [==============================] - 8s 6ms/step - loss: 6.5072e-05 - val_loss: 6.9847e-05\n",
            "Epoch 182/600\n",
            "1179/1179 [==============================] - 8s 7ms/step - loss: 6.4937e-05 - val_loss: 7.1965e-05\n",
            "Epoch 183/600\n",
            "1179/1179 [==============================] - 8s 6ms/step - loss: 6.5164e-05 - val_loss: 7.0549e-05\n",
            "Epoch 184/600\n",
            "1179/1179 [==============================] - 8s 6ms/step - loss: 6.4963e-05 - val_loss: 7.2281e-05\n",
            "Epoch 185/600\n",
            "1179/1179 [==============================] - 7s 6ms/step - loss: 6.4984e-05 - val_loss: 7.2099e-05\n",
            "Epoch 186/600\n",
            "1179/1179 [==============================] - 8s 7ms/step - loss: 6.5045e-05 - val_loss: 7.5289e-05\n"
          ]
        }
      ]
    },
    {
      "cell_type": "code",
      "metadata": {
        "colab": {
          "base_uri": "https://localhost:8080/"
        },
        "id": "I-fobwRhbqeE",
        "outputId": "a3b3ac47-25f3-44f6-cce3-a759480ae94a"
      },
      "source": [
        "mse_test = model.evaluate(X_scaled_test,y_test)\n",
        "\n",
        "print('Test Loss(MSE):', mse_test)"
      ],
      "execution_count": null,
      "outputs": [
        {
          "output_type": "stream",
          "name": "stdout",
          "text": [
            "786/786 [==============================] - 2s 3ms/step - loss: 7.0161e-05\n",
            "Test Loss(MSE): 7.016062590992078e-05\n"
          ]
        }
      ]
    },
    {
      "cell_type": "code",
      "metadata": {
        "colab": {
          "base_uri": "https://localhost:8080/",
          "height": 331
        },
        "id": "99mHXTJabyCO",
        "outputId": "3b2100cc-1379-4919-f7ce-d96f6c06f2b8"
      },
      "source": [
        "pd.DataFrame(history.history).plot(figsize=(8,5))\n",
        "plt.grid(True)\n",
        "plt.gca().set_ylim(0.000065,0.000075)\n",
        "plt.show()\n",
        "\n",
        "#Export your training history for MSE\n",
        "output = pd.DataFrame(history.history)"
      ],
      "execution_count": null,
      "outputs": [
        {
          "output_type": "display_data",
          "data": {
            "image/png": "[encoded data removed]",
            "text/plain": [
              "<Figure size 576x360 with 1 Axes>"
            ]
          },
          "metadata": {
            "needs_background": "light"
          }
        }
      ]
    },
    {
      "cell_type": "markdown",
      "metadata": {
        "id": "0C-_h80YhQtr"
      },
      "source": [
        "\n",
        "\n",
        "*   結果似乎不太好......我嘗試過用RNN的方式，但結果似乎更差，或許是我的參數調整錯誤，希望能夠更了解選擇權後，再加以改進\n",
        "\n",
        "\n",
        "\n"
      ]
    },
    {
      "cell_type": "code",
      "metadata": {
        "id": "2NXXe-V7cB4g"
      },
      "source": [
        "import lightgbm as lgbm\n",
        "X_train,X_test,y_train,y_test=train_test_split(X,y,test_size=0.2)\n",
        "scaler = StandardScaler()\n",
        "scaler.fit(X_train)\n",
        "\n",
        "\n",
        "X_scaled_train = scaler.transform(X_train)\n",
        "X_scaled_test = scaler.transform(X_test)\n",
        "model1=lgbm.LGBMRegressor(max_depth=700,learning_rate=0.3,reg_alpha=0.2,reg_lambda=0.2)\n",
        "model1.fit(X_scaled_train,y_train)\n",
        "y_pred1=model1.predict(X_scaled_vals)"
      ],
      "execution_count": null,
      "outputs": []
    },
    {
      "cell_type": "code",
      "metadata": {
        "colab": {
          "base_uri": "https://localhost:8080/"
        },
        "id": "lL9X7MuXcUTo",
        "outputId": "ed598ce3-3d62-4757-e933-c4414528320d"
      },
      "source": [
        "\n",
        "y_pred2=model1.predict(X_scaled_test)\n",
        "mean_squared_error(y_pred2,y_test)"
      ],
      "execution_count": null,
      "outputs": [
        {
          "output_type": "execute_result",
          "data": {
            "text/plain": [
              "5.97777991062076e-05"
            ]
          },
          "metadata": {},
          "execution_count": 17
        }
      ]
    },
    {
      "cell_type": "markdown",
      "metadata": {
        "id": "nLJd3c_Kh4uM"
      },
      "source": [
        "\n",
        "\n",
        "*   結果LGBM得出了最好的結果，根據Machine Learning in Business 此書裡，作者John Hull最好做到了6.3e-5的MSE，我們似乎得到了一個更好的結果。\n",
        "*   我在這次試驗裡面，只使用了一些簡單的跑法，像是超參數調整,Kfold那些方式並沒有在這裡使用，所以我相信一定可以做出更好的模型，更好的結果。\n",
        "\n",
        "\n"
      ]
    }
  ]
}
